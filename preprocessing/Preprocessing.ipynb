{
 "cells": [
  {
   "cell_type": "code",
   "execution_count": 1,
   "id": "3694340e",
   "metadata": {},
   "outputs": [],
   "source": [
    "import Preprocessing\n",
    "import pandas as pd"
   ]
  },
  {
   "cell_type": "code",
   "execution_count": 2,
   "id": "52895e01",
   "metadata": {},
   "outputs": [],
   "source": [
    "PATH = \"./data/\"\n",
    "ds = pd.read_csv(PATH + \"train.csv\")\n",
    "ds_test = pd.read_csv(PATH + \"test.csv\")\n",
    "ds_season = pd.read_csv(PATH + \"season.csv\")"
   ]
  },
  {
   "cell_type": "markdown",
   "id": "9a62fe5d",
   "metadata": {},
   "source": [
    "### 1 刪除缺項過多feature，刪除完全沒有資料的人"
   ]
  },
  {
   "cell_type": "code",
   "execution_count": 3,
   "id": "c298888d",
   "metadata": {},
   "outputs": [],
   "source": [
    "ds, ds_test = Preprocessing.RemoveData(ds, ds_test, cols=['最高學歷', '畢業學校類別'])"
   ]
  },
  {
   "cell_type": "markdown",
   "id": "334ba6aa",
   "metadata": {},
   "source": [
    "### 2 season合併\n",
    "加班數,出差數A,出差數B,請假數A,請假數B, 出差數A+B, 請假數A+B"
   ]
  },
  {
   "cell_type": "code",
   "execution_count": 4,
   "id": "04df5d92",
   "metadata": {},
   "outputs": [
    {
     "name": "stderr",
     "output_type": "stream",
     "text": [
      "/homes/ssd3/weitung/.conda/envs/test/lib/python3.9/site-packages/pandas/core/frame.py:5039: SettingWithCopyWarning: \n",
      "A value is trying to be set on a copy of a slice from a DataFrame\n",
      "\n",
      "See the caveats in the documentation: https://pandas.pydata.org/pandas-docs/stable/user_guide/indexing.html#returning-a-view-versus-a-copy\n",
      "  return super().rename(\n"
     ]
    }
   ],
   "source": [
    "train_merged, test_merged = Preprocessing.mergeSeason(ds, ds_test, ds_season)"
   ]
  },
  {
   "cell_type": "markdown",
   "id": "91199193",
   "metadata": {},
   "source": [
    "### Train AB加總\n",
    "訓練時數A,訓練時數B,訓練時數C, <br>\n",
    "近三月請假數A,近三月請假數B, <br>\n",
    "近一年請假數A,近一年請假數B, <br>\n",
    "出差數A,出差數B, <br>\n",
    "年度績效等級A,年度績效等級B,年度績效等級C, <br>\n",
    "年資層級A,年資層級B,年資層級C <br>\n",
    "--> 新增feat：訓練時數A+B+C, 近三月請假數A+B, 近一年請假數A+B, 出差數A+B, 年度績效等級A+B+C, 年資層級A+B+C"
   ]
  },
  {
   "cell_type": "code",
   "execution_count": 5,
   "id": "e4b396c8",
   "metadata": {},
   "outputs": [],
   "source": [
    "ds_train_all = Preprocessing.TrainAdd(train_merged)\n",
    "ds_test_all = Preprocessing.TrainAdd(test_merged)"
   ]
  },
  {
   "cell_type": "markdown",
   "id": "ae257248",
   "metadata": {},
   "source": [
    "### Normalize for num\n",
    "\n",
    "### 補0\n",
    "\n",
    "### Feature Selection\n",
    "1. Decomposition<br>\n",
    "2. Percent（與原本那3個方法相似）<br>\n",
    "3. 原本那3個<br>\n",
    "\n",
    "### 生csv"
   ]
  },
  {
   "cell_type": "code",
   "execution_count": 6,
   "id": "30a91720",
   "metadata": {},
   "outputs": [],
   "source": [
    "X_train, y_train = Preprocessing.splitXY(ds_train_all)\n",
    "X_test, y_test = Preprocessing.splitXY(ds_test_all)\n",
    "y_train.to_csv('y_train.csv', index=False)"
   ]
  },
  {
   "cell_type": "code",
   "execution_count": 7,
   "id": "65385939",
   "metadata": {},
   "outputs": [
    {
     "name": "stdout",
     "output_type": "stream",
     "text": [
      "maxmin\n",
      "Mutual\n",
      "Chi\n",
      "ANOVA\n",
      "NMF\n"
     ]
    },
    {
     "name": "stderr",
     "output_type": "stream",
     "text": [
      "/homes/ssd3/weitung/.conda/envs/test/lib/python3.9/site-packages/sklearn/decomposition/_nmf.py:1692: ConvergenceWarning: Maximum number of iterations 200 reached. Increase it to improve convergence.\n",
      "  warnings.warn(\n"
     ]
    },
    {
     "name": "stdout",
     "output_type": "stream",
     "text": [
      "PCA\n",
      "std\n",
      "Mutual\n",
      "ANOVA\n",
      "PCA\n"
     ]
    }
   ],
   "source": [
    "selectors = ['Mutual', 'Chi', 'ANOVA', 'NMF', 'PCA']\n",
    "for way in [\"maxmin\", \"std\"]:\n",
    "    print(way)\n",
    "    if way == 'maxmin':\n",
    "        train, test = Preprocessing.maxminNormalize(X_train, X_test, Preprocessing.NUM_FEATS)\n",
    "        test.fillna(0, inplace=True)\n",
    "        for i in range(5):\n",
    "            print(selectors[i])\n",
    "            name = \"./data/\" + way + \"_\" + selectors[i]\n",
    "            if i == 0:\n",
    "                x_train, x_test, _ = Preprocessing.keepMutual(train, y_train, test, k=10)\n",
    "            elif i == 1:\n",
    "                x_train, x_test, _ = Preprocessing.keepChi(train, y_train, test, k=10)\n",
    "            elif i == 2:\n",
    "                x_train, x_test, _ = Preprocessing.keepANOVA(train, y_train, test, k=10)\n",
    "            elif i == 3:\n",
    "                x_train, x_test = Preprocessing.keepNMF(train, test, k=10)\n",
    "            elif i == 4:\n",
    "                x_train, x_test = Preprocessing.keepPCA(train, test, k=10)\n",
    "                \n",
    "            x_train.to_csv(name + '_x_train.csv', index=False)\n",
    "            x_test.to_csv(name + '_x_test.csv', index=False)\n",
    "    else:\n",
    "        train, test = Preprocessing.stdNormalize(X_train, X_test, Preprocessing.NUM_FEATS)\n",
    "        test.fillna(0, inplace=True)\n",
    "        for i in range(0, 5, 2): # skip chi & NMF\n",
    "            print(selectors[i])\n",
    "            name = \"./data/\" + way + \"_\" + selectors[i]\n",
    "            if i == 0:\n",
    "                x_train, x_test, _ = Preprocessing.keepMutual(train, y_train, test, k=10)\n",
    "            elif i == 2:\n",
    "                x_train, x_test, _ = Preprocessing.keepANOVA(train, y_train, test, k=10)\n",
    "            elif i == 4:\n",
    "                x_train, x_test = Preprocessing.keepPCA(train, test, k=10)\n",
    "                \n",
    "            x_train.to_csv(name + '_x_train.csv', index=False)\n",
    "            x_test.to_csv(name + '_x_test.csv', index=False)"
   ]
  }
 ],
 "metadata": {
  "kernelspec": {
   "display_name": "Python 3 (ipykernel)",
   "language": "python",
   "name": "python3"
  },
  "language_info": {
   "codemirror_mode": {
    "name": "ipython",
    "version": 3
   },
   "file_extension": ".py",
   "mimetype": "text/x-python",
   "name": "python",
   "nbconvert_exporter": "python",
   "pygments_lexer": "ipython3",
   "version": "3.9.7"
  }
 },
 "nbformat": 4,
 "nbformat_minor": 5
}
